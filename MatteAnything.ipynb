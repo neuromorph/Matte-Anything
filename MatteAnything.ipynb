{
  "nbformat": 4,
  "nbformat_minor": 0,
  "metadata": {
    "colab": {
      "provenance": [],
      "gpuType": "T4",
      "authorship_tag": "ABX9TyP4T0jVOcU12R1p/GQzPzRH",
      "include_colab_link": true
    },
    "kernelspec": {
      "name": "python3",
      "display_name": "Python 3"
    },
    "language_info": {
      "name": "python"
    },
    "accelerator": "GPU"
  },
  "cells": [
    {
      "cell_type": "markdown",
      "metadata": {
        "id": "view-in-github",
        "colab_type": "text"
      },
      "source": [
        "<a href=\"https://colab.research.google.com/github/neuromorph/Matte-Anything/blob/main/MatteAnything.ipynb\" target=\"_parent\"><img src=\"https://colab.research.google.com/assets/colab-badge.svg\" alt=\"Open In Colab\"/></a>"
      ]
    },
    {
      "cell_type": "markdown",
      "source": [
        "**Colab to run [Matte Anything](https://github.com/hustvl/Matte-Anything) demo** - By Jingfeng Yao et al.\n",
        "\n",
        "This notebook goes through setting up Matte Anything demo along with its dependencies.\n",
        "In this [version](https://github.com/neuromorph/Matte-Anything), I have also added additional support to change transparency settings to better tune for images with transparent objects.\n",
        "\n",
        "\n",
        "I wanted to try their awesome model (on GPU) and also add the transparency correction as mentioned in their ToDo list.\n",
        "\n",
        "Follow the setup below in Colab after selecting GPU runtime and finally you will get a shareable link of Gradio app for the demo. In the app, follow steps below:\n",
        "\n",
        "1.   Click to upload an image for background removal/replacement\n",
        "2.   Click on 'foreground_point' radio button and then click on image to select some points as foreground object (one by one)\n",
        "3.   Do the same for background points by clicking on 'background_point' button\n",
        "4.   Use sliders for morphology operations like erosion, dilation or for transparency\n",
        "5.   Click on Start button\n",
        "6.   Explore right pane tabs once the output images are loaded\n",
        "\n"
      ],
      "metadata": {
        "id": "clXthc2IBs3z"
      }
    },
    {
      "cell_type": "code",
      "source": [
        "import os"
      ],
      "metadata": {
        "id": "1f2bGe4sDX4F"
      },
      "execution_count": 4,
      "outputs": []
    },
    {
      "cell_type": "code",
      "execution_count": null,
      "metadata": {
        "id": "-yNiZOtQBrA8"
      },
      "outputs": [],
      "source": [
        "!ls"
      ]
    },
    {
      "cell_type": "code",
      "source": [
        "!git clone https://github.com/neuromorph/Matte-Anything.git"
      ],
      "metadata": {
        "id": "jS3YUJ9YCRHd"
      },
      "execution_count": null,
      "outputs": []
    },
    {
      "cell_type": "code",
      "source": [
        "os.chdir(\"./Matte-Anything\")"
      ],
      "metadata": {
        "id": "DgslgTZtDbIw"
      },
      "execution_count": 5,
      "outputs": []
    },
    {
      "cell_type": "code",
      "source": [
        "!ls"
      ],
      "metadata": {
        "colab": {
          "base_uri": "https://localhost:8080/"
        },
        "id": "TnRi4MOkCmSY",
        "outputId": "5d887208-324c-4adc-f163-206d051f9a5c"
      },
      "execution_count": 6,
      "outputs": [
        {
          "output_type": "stream",
          "name": "stdout",
          "text": [
            "configs  figs\t  main.py\t     modeling\trequirements.txt\n",
            "engine\t LICENSE  matte_anything.py  README.md\n"
          ]
        }
      ]
    },
    {
      "cell_type": "code",
      "source": [
        "!pip install setuptools==58.2.0"
      ],
      "metadata": {
        "id": "Xx768PK2Hq2z"
      },
      "execution_count": null,
      "outputs": []
    },
    {
      "cell_type": "code",
      "source": [
        "!pip install git+https://github.com/facebookresearch/segment-anything.git"
      ],
      "metadata": {
        "id": "I12e-cs4JGKr"
      },
      "execution_count": null,
      "outputs": []
    },
    {
      "cell_type": "code",
      "source": [
        "!python -m pip install 'git+https://github.com/facebookresearch/detectron2.git'\n",
        "!pip install -r requirements.txt\n",
        "# If error installing opencv, check next cell note."
      ],
      "metadata": {
        "id": "o8KL833gJSFL"
      },
      "execution_count": null,
      "outputs": []
    },
    {
      "cell_type": "code",
      "source": [
        "# NOTE! The requirements.txt has a specific version of opencv-python which was consistently failing to install. However going with default version also works.\n",
        "!pip install opencv-python"
      ],
      "metadata": {
        "colab": {
          "base_uri": "https://localhost:8080/"
        },
        "id": "Ia5bjW3_LIT8",
        "outputId": "33a023c6-9745-454e-e5fc-ab7b67bbce32"
      },
      "execution_count": 12,
      "outputs": [
        {
          "output_type": "stream",
          "name": "stdout",
          "text": [
            "Looking in indexes: https://pypi.org/simple, https://us-python.pkg.dev/colab-wheels/public/simple/\n",
            "Requirement already satisfied: opencv-python in /usr/local/lib/python3.10/dist-packages (4.7.0.72)\n",
            "Requirement already satisfied: numpy>=1.21.2 in /usr/local/lib/python3.10/dist-packages (from opencv-python) (1.22.4)\n"
          ]
        }
      ]
    },
    {
      "cell_type": "code",
      "source": [
        "# Installing packages from requirements.txt in case they were skipped due to error in installing opencv\n",
        "!pip install torch==2.0.0 torchvision tensorboard timm==0.5.4 easydict wget scikit-image gradio fairscale"
      ],
      "metadata": {
        "id": "S9weXSGtLogg"
      },
      "execution_count": null,
      "outputs": []
    },
    {
      "cell_type": "code",
      "source": [
        "!git clone https://github.com/IDEA-Research/GroundingDINO.git\n",
        "os.chdir(\"./GroundingDINO\")\n",
        "!pip install -e ."
      ],
      "metadata": {
        "id": "ir5gC44iMGH3"
      },
      "execution_count": null,
      "outputs": []
    },
    {
      "cell_type": "code",
      "source": [
        "# Make directory 'pretrained' inside 'Matte-Anything'\n",
        "os.chdir(\"../\")\n",
        "os.mkdir(\"./pretrained\")\n",
        "os.chdir(\"./pretrained\")"
      ],
      "metadata": {
        "id": "_ARSblSUMw_s"
      },
      "execution_count": 15,
      "outputs": []
    },
    {
      "cell_type": "code",
      "source": [
        "# Download pretrained models for Segment Anything, VitMatte and GroundingDINO under 'pretrained' directory\n",
        "!wget https://dl.fbaipublicfiles.com/segment_anything/sam_vit_h_4b8939.pth\n",
        "!wget https://github.com/IDEA-Research/GroundingDINO/releases/download/v0.1.0-alpha/groundingdino_swint_ogc.pth\n",
        "!gdown 1d97oKuITCeWgai2Tf3iNilt6rMSSYzkW"
      ],
      "metadata": {
        "colab": {
          "base_uri": "https://localhost:8080/"
        },
        "id": "TP1q9iN0N_z_",
        "outputId": "067d0586-f159-4e86-b808-44271fef752c"
      },
      "execution_count": 21,
      "outputs": [
        {
          "output_type": "stream",
          "name": "stdout",
          "text": [
            "Downloading...\n",
            "From: https://drive.google.com/uc?id=1d97oKuITCeWgai2Tf3iNilt6rMSSYzkW\n",
            "To: /content/Matte-Anything/GroundingDINO/pretrained/ViTMatte_B_DIS.pth\n",
            "100% 387M/387M [00:06<00:00, 58.3MB/s]\n"
          ]
        }
      ]
    },
    {
      "cell_type": "code",
      "source": [
        "# Check that you have 'GroundingDINO' and 'pretrained' directories inside Matte-Anything dir\n",
        "os.chdir(\"../\")\n",
        "!ls"
      ],
      "metadata": {
        "colab": {
          "base_uri": "https://localhost:8080/"
        },
        "id": "GKslRRFjQEJ8",
        "outputId": "6ff55f2f-891d-40b8-a792-dda759eee705"
      },
      "execution_count": 33,
      "outputs": [
        {
          "output_type": "stream",
          "name": "stdout",
          "text": [
            "configs  GroundingDINO\tmatte_anything.py  README.md\n",
            "engine\t LICENSE\tmodeling\t   requirements.txt\n",
            "figs\t main.py\tpretrained\n"
          ]
        }
      ]
    },
    {
      "cell_type": "code",
      "source": [
        "# Running this cell will start a Gradio webapp and the url for the same can be found at the end of the output\n",
        "!python matte_anything.py"
      ],
      "metadata": {
        "id": "HNeHXSbKQHfk"
      },
      "execution_count": null,
      "outputs": []
    },
    {
      "cell_type": "code",
      "source": [
        "# This step is only needed to pull updated code from git when some code changes are to be tested\n",
        "!git pull origin main"
      ],
      "metadata": {
        "id": "DWH4zjCAROTe"
      },
      "execution_count": null,
      "outputs": []
    }
  ]
}